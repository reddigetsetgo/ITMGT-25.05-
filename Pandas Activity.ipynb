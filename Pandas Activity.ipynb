{
 "cells": [
  {
   "cell_type": "code",
   "execution_count": 1,
   "id": "34eb52c8",
   "metadata": {
    "scrolled": true
   },
   "outputs": [
    {
     "data": {
      "text/html": [
       "<div>\n",
       "<style scoped>\n",
       "    .dataframe tbody tr th:only-of-type {\n",
       "        vertical-align: middle;\n",
       "    }\n",
       "\n",
       "    .dataframe tbody tr th {\n",
       "        vertical-align: top;\n",
       "    }\n",
       "\n",
       "    .dataframe thead th {\n",
       "        text-align: right;\n",
       "    }\n",
       "</style>\n",
       "<table border=\"1\" class=\"dataframe\">\n",
       "  <thead>\n",
       "    <tr style=\"text-align: right;\">\n",
       "      <th></th>\n",
       "      <th>invoice_no</th>\n",
       "      <th>customer_id</th>\n",
       "      <th>category</th>\n",
       "      <th>quantity</th>\n",
       "      <th>price</th>\n",
       "      <th>payment_method</th>\n",
       "      <th>invoice_date</th>\n",
       "      <th>shopping_mall</th>\n",
       "    </tr>\n",
       "  </thead>\n",
       "  <tbody>\n",
       "    <tr>\n",
       "      <th>0</th>\n",
       "      <td>I138884</td>\n",
       "      <td>229</td>\n",
       "      <td>Clothing</td>\n",
       "      <td>5</td>\n",
       "      <td>1500.40</td>\n",
       "      <td>Credit Card</td>\n",
       "      <td>5/8/2022</td>\n",
       "      <td>Kanyon</td>\n",
       "    </tr>\n",
       "    <tr>\n",
       "      <th>1</th>\n",
       "      <td>I317333</td>\n",
       "      <td>3433</td>\n",
       "      <td>Shoes</td>\n",
       "      <td>3</td>\n",
       "      <td>1800.51</td>\n",
       "      <td>Debit Card</td>\n",
       "      <td>12/12/2021</td>\n",
       "      <td>Forum Istanbul</td>\n",
       "    </tr>\n",
       "    <tr>\n",
       "      <th>2</th>\n",
       "      <td>I127801</td>\n",
       "      <td>644</td>\n",
       "      <td>Clothing</td>\n",
       "      <td>1</td>\n",
       "      <td>300.08</td>\n",
       "      <td>Cash</td>\n",
       "      <td>9/11/2021</td>\n",
       "      <td>Metrocity</td>\n",
       "    </tr>\n",
       "    <tr>\n",
       "      <th>3</th>\n",
       "      <td>I173702</td>\n",
       "      <td>4900</td>\n",
       "      <td>Shoes</td>\n",
       "      <td>5</td>\n",
       "      <td>3000.85</td>\n",
       "      <td>Credit Card</td>\n",
       "      <td>16/05/2021</td>\n",
       "      <td>Metropol AVM</td>\n",
       "    </tr>\n",
       "    <tr>\n",
       "      <th>4</th>\n",
       "      <td>I337046</td>\n",
       "      <td>1089</td>\n",
       "      <td>Books</td>\n",
       "      <td>4</td>\n",
       "      <td>60.60</td>\n",
       "      <td>Cash</td>\n",
       "      <td>24/10/2021</td>\n",
       "      <td>Kanyon</td>\n",
       "    </tr>\n",
       "  </tbody>\n",
       "</table>\n",
       "</div>"
      ],
      "text/plain": [
       "  invoice_no  customer_id  category  quantity    price payment_method  \\\n",
       "0    I138884          229  Clothing         5  1500.40    Credit Card   \n",
       "1    I317333         3433     Shoes         3  1800.51     Debit Card   \n",
       "2    I127801          644  Clothing         1   300.08           Cash   \n",
       "3    I173702         4900     Shoes         5  3000.85    Credit Card   \n",
       "4    I337046         1089     Books         4    60.60           Cash   \n",
       "\n",
       "  invoice_date   shopping_mall  \n",
       "0     5/8/2022          Kanyon  \n",
       "1   12/12/2021  Forum Istanbul  \n",
       "2    9/11/2021       Metrocity  \n",
       "3   16/05/2021    Metropol AVM  \n",
       "4   24/10/2021          Kanyon  "
      ]
     },
     "execution_count": 1,
     "metadata": {},
     "output_type": "execute_result"
    }
   ],
   "source": [
    "import pandas as pd\n",
    "\n",
    "df = pd.read_csv(\"fct_invoice.csv\")\n",
    "\n",
    "df.head(5)"
   ]
  },
  {
   "cell_type": "code",
   "execution_count": 15,
   "id": "18c33b78",
   "metadata": {
    "scrolled": true
   },
   "outputs": [
    {
     "name": "stdout",
     "output_type": "stream",
     "text": [
      "Unique customers: 5191\n",
      "Top customers:\n"
     ]
    },
    {
     "data": {
      "text/plain": [
       "50      128\n",
       "7       121\n",
       "4       117\n",
       "80      113\n",
       "74      112\n",
       "       ... \n",
       "3677      1\n",
       "4695      1\n",
       "6468      1\n",
       "4937      1\n",
       "4761      1\n",
       "Name: customer_id, Length: 5191, dtype: int64"
      ]
     },
     "execution_count": 15,
     "metadata": {},
     "output_type": "execute_result"
    }
   ],
   "source": [
    "# Easy 1 How many unique customers are there in the dataset? \n",
    "\n",
    "print(\"Unique customers: \"+ str(df['customer_id'].nunique()))\n",
    "print(\"Top customers:\")\n",
    "df['customer_id'].value_counts()"
   ]
  },
  {
   "cell_type": "code",
   "execution_count": 11,
   "id": "b27bbdac",
   "metadata": {
    "scrolled": true
   },
   "outputs": [
    {
     "name": "stdout",
     "output_type": "stream",
     "text": [
      "Number of categories: 8\n",
      "\n",
      "Categories:\n",
      "Clothing\n",
      "Shoes\n",
      "Books\n",
      "Cosmetics\n",
      "Food & Beverage\n",
      "Toys\n",
      "Technology\n",
      "Souvenir\n"
     ]
    }
   ],
   "source": [
    "# Easy 2 What are the different categories of products available? How many unique categories are there?\n",
    "\n",
    "print(\"Number of categories: \" + str(df['category'].nunique()))\n",
    "print()\n",
    "print(\"Categories:\")\n",
    "for x in df['category'].unique() :\n",
    "    print(x)"
   ]
  },
  {
   "cell_type": "code",
   "execution_count": 12,
   "id": "8fb17fd3",
   "metadata": {},
   "outputs": [
    {
     "name": "stdout",
     "output_type": "stream",
     "text": [
      "Payment methods by popularity (amount of times used)\n"
     ]
    },
    {
     "data": {
      "text/plain": [
       "Cash           44447\n",
       "Credit Card    34931\n",
       "Debit Card     20079\n",
       "Name: payment_method, dtype: int64"
      ]
     },
     "execution_count": 12,
     "metadata": {},
     "output_type": "execute_result"
    }
   ],
   "source": [
    "# Easy 3 Which payment methods are the most popular? How many time was it used?\n",
    "\n",
    "df['payment_method'].nunique()\n",
    "methods = (df['payment_method'].unique())\n",
    "\n",
    "print(\"Payment methods by popularity (amount of times used)\")\n",
    "df['payment_method'].value_counts()"
   ]
  },
  {
   "cell_type": "code",
   "execution_count": 16,
   "id": "e7e50dc3",
   "metadata": {
    "scrolled": true
   },
   "outputs": [
    {
     "data": {
      "text/plain": [
       "Clothing           34487\n",
       "Cosmetics          15097\n",
       "Food & Beverage    14776\n",
       "Name: category, dtype: int64"
      ]
     },
     "execution_count": 16,
     "metadata": {},
     "output_type": "execute_result"
    }
   ],
   "source": [
    "# Medium 1 What are the three most popular categories, by total sales?\n",
    "\n",
    "df['category'].value_counts().head(3)"
   ]
  },
  {
   "cell_type": "code",
   "execution_count": 19,
   "id": "479b9fc2",
   "metadata": {},
   "outputs": [
    {
     "name": "stdout",
     "output_type": "stream",
     "text": [
      "Total Sales from people over 45:\n"
     ]
    },
    {
     "data": {
      "text/plain": [
       "32627"
      ]
     },
     "execution_count": 19,
     "metadata": {},
     "output_type": "execute_result"
    }
   ],
   "source": [
    "# Medium 2 What are the total sales attributed to customers over the age of 45?\n",
    "\n",
    "iv = pd.read_json(\"dim_customer.json\")\n",
    "df = pd.read_csv(\"fct_invoice.csv\")\n",
    "\n",
    "iv.rename(columns={\"id\":\"customer_id\"})\n",
    "\n",
    "merged = pd.merge(df,iv,left_on=\"customer_id\",right_on=\"id\")\n",
    "\n",
    "over_45 = merged.loc[merged['age']>45]\n",
    "print(\"Total Sales from people over 45:\")\n",
    "over_45.count()['quantity']"
   ]
  },
  {
   "cell_type": "code",
   "execution_count": 20,
   "id": "fe407a6b",
   "metadata": {
    "scrolled": false
   },
   "outputs": [
    {
     "name": "stdout",
     "output_type": "stream",
     "text": [
      "Total purchases based on age (above or below)\n",
      "45\n",
      "below    26.870909\n",
      "over     32.805132\n",
      "dtype: float64\n"
     ]
    }
   ],
   "source": [
    "# Medium 2 Total Sales\n",
    "\n",
    "over_45 = merged.loc[merged['age']>45].index\n",
    "merged.loc[over_45,'45']='over'\n",
    "below_45 = merged.loc[merged['age']<=45].index\n",
    "merged.loc[below_45,'45']='below'\n",
    "\n",
    "count = merged.groupby('45').size()\n",
    "percentage = count / len(merged) * 100\n",
    "print(\"Total purchases based on age (above or below)\")\n",
    "print(percentage)"
   ]
  },
  {
   "cell_type": "code",
   "execution_count": null,
   "id": "4e330a3c",
   "metadata": {},
   "outputs": [],
   "source": [
    "# Medium 3 How is the data distrbuted across different invoice dates? Are there any seasonal trends or patterns?\n",
    "\n",
    "#winter spring summer fall\n",
    "#merged['season'] = ''\n",
    "\n",
    "merged['month'] = pd.DatetimeIndex(df['invoice_date']).month\n",
    "\n",
    "winter = merged.loc[(merged['month'] == 12) | ((1 <= merged['month']) & (merged['month'] <= 3))].index\n",
    "merged.loc[winter,'season']='Winter'\n",
    "\n",
    "spring = merged.loc[(merged['month'] >= 4) & (merged['month'] <= 6)].index\n",
    "merged.loc[spring, 'season'] = 'Spring'\n",
    "\n",
    "summer = merged[(merged['month']<= 9) & (merged['month']>= 7)].index\n",
    "merged.loc[summer,'season'] = 'Summer'\n",
    "\n",
    "fall = merged[(merged['month']<= 11) & (merged['month']>= 10)].index\n",
    "merged.loc[fall,'season'] = 'Fall'"
   ]
  },
  {
   "cell_type": "code",
   "execution_count": 25,
   "id": "7a8c4e03",
   "metadata": {
    "scrolled": true
   },
   "outputs": [
    {
     "data": {
      "text/plain": [
       "<Axes: >"
      ]
     },
     "execution_count": 25,
     "metadata": {},
     "output_type": "execute_result"
    },
    {
     "data": {
      "image/png": "[encoded data removed]",
      "text/plain": [
       "<Figure size 640x480 with 1 Axes>"
      ]
     },
     "metadata": {},
     "output_type": "display_data"
    }
   ],
   "source": [
    "merged['season'].value_counts().plot(kind='bar')"
   ]
  },
  {
   "cell_type": "code",
   "execution_count": 27,
   "id": "b21566c4",
   "metadata": {},
   "outputs": [
    {
     "data": {
      "text/html": [
       "<div>\n",
       "<style scoped>\n",
       "    .dataframe tbody tr th:only-of-type {\n",
       "        vertical-align: middle;\n",
       "    }\n",
       "\n",
       "    .dataframe tbody tr th {\n",
       "        vertical-align: top;\n",
       "    }\n",
       "\n",
       "    .dataframe thead th {\n",
       "        text-align: right;\n",
       "    }\n",
       "</style>\n",
       "<table border=\"1\" class=\"dataframe\">\n",
       "  <thead>\n",
       "    <tr style=\"text-align: right;\">\n",
       "      <th></th>\n",
       "      <th>invoice_no</th>\n",
       "      <th>customer_id</th>\n",
       "      <th>category</th>\n",
       "      <th>quantity</th>\n",
       "      <th>price</th>\n",
       "      <th>payment_method</th>\n",
       "      <th>invoice_date</th>\n",
       "      <th>shopping_mall</th>\n",
       "      <th>age</th>\n",
       "      <th>first_name</th>\n",
       "      <th>gender</th>\n",
       "      <th>id</th>\n",
       "      <th>last_name</th>\n",
       "      <th>45</th>\n",
       "      <th>month</th>\n",
       "      <th>season</th>\n",
       "    </tr>\n",
       "  </thead>\n",
       "  <tbody>\n",
       "    <tr>\n",
       "      <th>0</th>\n",
       "      <td>I138884</td>\n",
       "      <td>229</td>\n",
       "      <td>Clothing</td>\n",
       "      <td>5</td>\n",
       "      <td>1500.40</td>\n",
       "      <td>Credit Card</td>\n",
       "      <td>5/8/2022</td>\n",
       "      <td>Kanyon</td>\n",
       "      <td>NaN</td>\n",
       "      <td>William</td>\n",
       "      <td>M</td>\n",
       "      <td>229</td>\n",
       "      <td>Anderson</td>\n",
       "      <td>NaN</td>\n",
       "      <td>5</td>\n",
       "      <td>Spring</td>\n",
       "    </tr>\n",
       "    <tr>\n",
       "      <th>1</th>\n",
       "      <td>I126377</td>\n",
       "      <td>229</td>\n",
       "      <td>Cosmetics</td>\n",
       "      <td>2</td>\n",
       "      <td>81.32</td>\n",
       "      <td>Credit Card</td>\n",
       "      <td>5/4/2021</td>\n",
       "      <td>Metrocity</td>\n",
       "      <td>NaN</td>\n",
       "      <td>William</td>\n",
       "      <td>M</td>\n",
       "      <td>229</td>\n",
       "      <td>Anderson</td>\n",
       "      <td>NaN</td>\n",
       "      <td>12</td>\n",
       "      <td>Winter</td>\n",
       "    </tr>\n",
       "    <tr>\n",
       "      <th>2</th>\n",
       "      <td>I178419</td>\n",
       "      <td>229</td>\n",
       "      <td>Shoes</td>\n",
       "      <td>3</td>\n",
       "      <td>1800.51</td>\n",
       "      <td>Debit Card</td>\n",
       "      <td>1/6/2021</td>\n",
       "      <td>Istinye Park</td>\n",
       "      <td>NaN</td>\n",
       "      <td>William</td>\n",
       "      <td>M</td>\n",
       "      <td>229</td>\n",
       "      <td>Anderson</td>\n",
       "      <td>NaN</td>\n",
       "      <td>9</td>\n",
       "      <td>Summer</td>\n",
       "    </tr>\n",
       "    <tr>\n",
       "      <th>3</th>\n",
       "      <td>I847727</td>\n",
       "      <td>229</td>\n",
       "      <td>Clothing</td>\n",
       "      <td>3</td>\n",
       "      <td>900.24</td>\n",
       "      <td>Credit Card</td>\n",
       "      <td>21/08/2022</td>\n",
       "      <td>Zorlu Center</td>\n",
       "      <td>NaN</td>\n",
       "      <td>William</td>\n",
       "      <td>M</td>\n",
       "      <td>229</td>\n",
       "      <td>Anderson</td>\n",
       "      <td>NaN</td>\n",
       "      <td>5</td>\n",
       "      <td>Spring</td>\n",
       "    </tr>\n",
       "    <tr>\n",
       "      <th>4</th>\n",
       "      <td>I219251</td>\n",
       "      <td>229</td>\n",
       "      <td>Shoes</td>\n",
       "      <td>5</td>\n",
       "      <td>3000.85</td>\n",
       "      <td>Credit Card</td>\n",
       "      <td>23/06/2022</td>\n",
       "      <td>Istinye Park</td>\n",
       "      <td>NaN</td>\n",
       "      <td>William</td>\n",
       "      <td>M</td>\n",
       "      <td>229</td>\n",
       "      <td>Anderson</td>\n",
       "      <td>NaN</td>\n",
       "      <td>10</td>\n",
       "      <td>Fall</td>\n",
       "    </tr>\n",
       "  </tbody>\n",
       "</table>\n",
       "</div>"
      ],
      "text/plain": [
       "  invoice_no  customer_id   category  quantity    price payment_method  \\\n",
       "0    I138884          229   Clothing         5  1500.40    Credit Card   \n",
       "1    I126377          229  Cosmetics         2    81.32    Credit Card   \n",
       "2    I178419          229      Shoes         3  1800.51     Debit Card   \n",
       "3    I847727          229   Clothing         3   900.24    Credit Card   \n",
       "4    I219251          229      Shoes         5  3000.85    Credit Card   \n",
       "\n",
       "  invoice_date shopping_mall  age first_name gender   id last_name   45  \\\n",
       "0     5/8/2022        Kanyon  NaN    William      M  229  Anderson  NaN   \n",
       "1     5/4/2021     Metrocity  NaN    William      M  229  Anderson  NaN   \n",
       "2     1/6/2021  Istinye Park  NaN    William      M  229  Anderson  NaN   \n",
       "3   21/08/2022  Zorlu Center  NaN    William      M  229  Anderson  NaN   \n",
       "4   23/06/2022  Istinye Park  NaN    William      M  229  Anderson  NaN   \n",
       "\n",
       "   month  season  \n",
       "0      5  Spring  \n",
       "1     12  Winter  \n",
       "2      9  Summer  \n",
       "3      5  Spring  \n",
       "4     10    Fall  "
      ]
     },
     "execution_count": 27,
     "metadata": {},
     "output_type": "execute_result"
    }
   ],
   "source": [
    "# Hard 1 Create a pivot table showing the breakdown of sales across these dimensions, in this order: category, decade age range (e.g., 10-19, 20-29, and so forth).\n",
    "\n",
    "merged.head(5)"
   ]
  },
  {
   "cell_type": "code",
   "execution_count": 28,
   "id": "94c40960",
   "metadata": {},
   "outputs": [
    {
     "data": {
      "text/html": [
       "<div>\n",
       "<style scoped>\n",
       "    .dataframe tbody tr th:only-of-type {\n",
       "        vertical-align: middle;\n",
       "    }\n",
       "\n",
       "    .dataframe tbody tr th {\n",
       "        vertical-align: top;\n",
       "    }\n",
       "\n",
       "    .dataframe thead th {\n",
       "        text-align: right;\n",
       "    }\n",
       "</style>\n",
       "<table border=\"1\" class=\"dataframe\">\n",
       "  <thead>\n",
       "    <tr style=\"text-align: right;\">\n",
       "      <th>age</th>\n",
       "      <th>[10, 20)</th>\n",
       "      <th>[20, 30)</th>\n",
       "      <th>[30, 40)</th>\n",
       "      <th>[40, 50)</th>\n",
       "      <th>[50, 60)</th>\n",
       "      <th>[60, 70)</th>\n",
       "      <th>[70, 80)</th>\n",
       "      <th>[80, 90)</th>\n",
       "      <th>[90, 100)</th>\n",
       "    </tr>\n",
       "    <tr>\n",
       "      <th>category</th>\n",
       "      <th></th>\n",
       "      <th></th>\n",
       "      <th></th>\n",
       "      <th></th>\n",
       "      <th></th>\n",
       "      <th></th>\n",
       "      <th></th>\n",
       "      <th></th>\n",
       "      <th></th>\n",
       "    </tr>\n",
       "  </thead>\n",
       "  <tbody>\n",
       "    <tr>\n",
       "      <th>Books</th>\n",
       "      <td>229</td>\n",
       "      <td>1427</td>\n",
       "      <td>1518</td>\n",
       "      <td>1542</td>\n",
       "      <td>1364</td>\n",
       "      <td>1420</td>\n",
       "      <td>1019</td>\n",
       "      <td>500</td>\n",
       "      <td>0</td>\n",
       "    </tr>\n",
       "    <tr>\n",
       "      <th>Clothing</th>\n",
       "      <td>1727</td>\n",
       "      <td>9392</td>\n",
       "      <td>10247</td>\n",
       "      <td>10220</td>\n",
       "      <td>9343</td>\n",
       "      <td>9700</td>\n",
       "      <td>7055</td>\n",
       "      <td>4095</td>\n",
       "      <td>0</td>\n",
       "    </tr>\n",
       "    <tr>\n",
       "      <th>Cosmetics</th>\n",
       "      <td>730</td>\n",
       "      <td>4060</td>\n",
       "      <td>4871</td>\n",
       "      <td>4460</td>\n",
       "      <td>3958</td>\n",
       "      <td>4344</td>\n",
       "      <td>2807</td>\n",
       "      <td>1752</td>\n",
       "      <td>0</td>\n",
       "    </tr>\n",
       "    <tr>\n",
       "      <th>Food &amp; Beverage</th>\n",
       "      <td>697</td>\n",
       "      <td>3906</td>\n",
       "      <td>4540</td>\n",
       "      <td>4677</td>\n",
       "      <td>3824</td>\n",
       "      <td>4243</td>\n",
       "      <td>2862</td>\n",
       "      <td>1637</td>\n",
       "      <td>0</td>\n",
       "    </tr>\n",
       "    <tr>\n",
       "      <th>Shoes</th>\n",
       "      <td>457</td>\n",
       "      <td>2716</td>\n",
       "      <td>3186</td>\n",
       "      <td>3148</td>\n",
       "      <td>2652</td>\n",
       "      <td>2696</td>\n",
       "      <td>2017</td>\n",
       "      <td>1180</td>\n",
       "      <td>0</td>\n",
       "    </tr>\n",
       "    <tr>\n",
       "      <th>Souvenir</th>\n",
       "      <td>281</td>\n",
       "      <td>1304</td>\n",
       "      <td>1496</td>\n",
       "      <td>1514</td>\n",
       "      <td>1286</td>\n",
       "      <td>1307</td>\n",
       "      <td>903</td>\n",
       "      <td>558</td>\n",
       "      <td>0</td>\n",
       "    </tr>\n",
       "    <tr>\n",
       "      <th>Technology</th>\n",
       "      <td>274</td>\n",
       "      <td>1359</td>\n",
       "      <td>1590</td>\n",
       "      <td>1553</td>\n",
       "      <td>1162</td>\n",
       "      <td>1457</td>\n",
       "      <td>931</td>\n",
       "      <td>522</td>\n",
       "      <td>0</td>\n",
       "    </tr>\n",
       "    <tr>\n",
       "      <th>Toys</th>\n",
       "      <td>480</td>\n",
       "      <td>2859</td>\n",
       "      <td>3217</td>\n",
       "      <td>2983</td>\n",
       "      <td>2626</td>\n",
       "      <td>2797</td>\n",
       "      <td>2078</td>\n",
       "      <td>1201</td>\n",
       "      <td>0</td>\n",
       "    </tr>\n",
       "  </tbody>\n",
       "</table>\n",
       "</div>"
      ],
      "text/plain": [
       "age              [10, 20)  [20, 30)  [30, 40)  [40, 50)  [50, 60)  [60, 70)  \\\n",
       "category                                                                      \n",
       "Books                 229      1427      1518      1542      1364      1420   \n",
       "Clothing             1727      9392     10247     10220      9343      9700   \n",
       "Cosmetics             730      4060      4871      4460      3958      4344   \n",
       "Food & Beverage       697      3906      4540      4677      3824      4243   \n",
       "Shoes                 457      2716      3186      3148      2652      2696   \n",
       "Souvenir              281      1304      1496      1514      1286      1307   \n",
       "Technology            274      1359      1590      1553      1162      1457   \n",
       "Toys                  480      2859      3217      2983      2626      2797   \n",
       "\n",
       "age              [70, 80)  [80, 90)  [90, 100)  \n",
       "category                                        \n",
       "Books                1019       500          0  \n",
       "Clothing             7055      4095          0  \n",
       "Cosmetics            2807      1752          0  \n",
       "Food & Beverage      2862      1637          0  \n",
       "Shoes                2017      1180          0  \n",
       "Souvenir              903       558          0  \n",
       "Technology            931       522          0  \n",
       "Toys                 2078      1201          0  "
      ]
     },
     "execution_count": 28,
     "metadata": {},
     "output_type": "execute_result"
    }
   ],
   "source": [
    "decades = pd.cut(merged['age'],bins=range(10, 101, 10),right=False)\n",
    "merged.pivot_table(index=\"category\",columns=decades,values=\"quantity\",aggfunc=\"sum\")"
   ]
  }
 ],
 "metadata": {
  "kernelspec": {
   "display_name": "Python 3 (ipykernel)",
   "language": "python",
   "name": "python3"
  },
  "language_info": {
   "codemirror_mode": {
    "name": "ipython",
    "version": 3
   },
   "file_extension": ".py",
   "mimetype": "text/x-python",
   "name": "python",
   "nbconvert_exporter": "python",
   "pygments_lexer": "ipython3",
   "version": "3.10.9"
  }
 },
 "nbformat": 4,
 "nbformat_minor": 5
}
